{
 "cells": [
  {
   "cell_type": "markdown",
   "metadata": {},
   "source": [
    "# Practica para Sistemas de Bases de Datos (Feb 21)\n",
    "\n",
    "## Autor: Martín Romera Sobrado\n",
    "## Contacto: mromera95@alumno.uned.es"
   ]
  },
  {
   "cell_type": "markdown",
   "metadata": {},
   "source": [
    "### Inicialización de la base de datos\n",
    "\n",
    "Creamos e iniciamos la base de datos si todavía no lo está."
   ]
  },
  {
   "cell_type": "code",
   "execution_count": 1,
   "metadata": {},
   "outputs": [
    {
     "name": "stdout",
     "output_type": "stream",
     "text": [
      "mkdir: `librosdb': File exists\r\n"
     ]
    }
   ],
   "source": [
    "! hadoop fs -mkdir librosdb"
   ]
  },
  {
   "cell_type": "code",
   "execution_count": 2,
   "metadata": {},
   "outputs": [
    {
     "name": "stdout",
     "output_type": "stream",
     "text": [
      "scan complete in 2ms\n",
      "Connecting to jdbc:hive2://localhost:10000/default\n",
      "Connected to: Apache Hive (version 1.1.0-cdh5.12.0)\n",
      "Driver: Hive JDBC (version 1.1.0-cdh5.12.0)\n",
      "Transaction isolation: TRANSACTION_REPEATABLE_READ\n",
      "que no este creada.alhost:10000/default> -- Crea la base de datos en el caso de  \n",
      "0: jdbc:hive2://localhost:10000/default> \n",
      "0: jdbc:hive2://localhost:10000/default> create database if not exists librosdb\n",
      "de libros'. . . . . . . . . . . . . . .> Comment 'Base de datos con información  \n",
      ". . . . . . . . . . . . . . . . . . . .> Location '/home/cloudera/librosdb'\n",
      "n Romera Sobrado', '. . . . . . . . . .> With dbproperties('Creada por' = 'Martí Creada el' = '9-Nov-2020');\n",
      "INFO  : Compiling command(queryId=hive_20201110041212_a0938e38-07c3-4a5f-a207-4d715d9540f2): create database if not exists librosdb\n",
      "Comment 'Base de datos con información de libros'\n",
      "Location '/home/cloudera/librosdb'\n",
      "With dbproperties('Creada por' = 'Martín Romera Sobrado', 'Creada el' = '9-Nov-2020')\n",
      "INFO  : Semantic Analysis Completed\n",
      "INFO  : Returning Hive schema: Schema(fieldSchemas:null, properties:null)\n",
      "INFO  : Completed compiling command(queryId=hive_20201110041212_a0938e38-07c3-4a5f-a207-4d715d9540f2); Time taken: 0.433 seconds\n",
      "INFO  : Concurrency mode is disabled, not creating a lock manager\n",
      "INFO  : Executing command(queryId=hive_20201110041212_a0938e38-07c3-4a5f-a207-4d715d9540f2): create database if not exists librosdb\n",
      "Comment 'Base de datos con información de libros'\n",
      "Location '/home/cloudera/librosdb'\n",
      "With dbproperties('Creada por' = 'Martín Romera Sobrado', 'Creada el' = '9-Nov-2020')\n",
      "INFO  : Starting task [Stage-0:DDL] in serial mode\n",
      "INFO  : Completed executing command(queryId=hive_20201110041212_a0938e38-07c3-4a5f-a207-4d715d9540f2); Time taken: 0.051 seconds\n",
      "INFO  : OK\n",
      "No rows affected (0.684 seconds)\n",
      "0: jdbc:hive2://localhost:10000/default> \n",
      "0: jdbc:hive2://localhost:10000/default> \n",
      "Closing: 0: jdbc:hive2://localhost:10000/default\n"
     ]
    }
   ],
   "source": [
    "! beeline -u \"jdbc:hive2://localhost:10000/default\" -f db/db.hql"
   ]
  },
  {
   "cell_type": "markdown",
   "metadata": {},
   "source": [
    "Los contenidos de *db/db.hql* son los siguientes:"
   ]
  },
  {
   "cell_type": "markdown",
   "metadata": {},
   "source": [
    "```HiveQL\n",
    "-- Crea la base de datos en el caso de que no este creada.\n",
    "\n",
    "create database if not exists librosdb\n",
    "Comment 'Base de datos con información de libros'\n",
    "Location '/home/cloudera/librosdb'\n",
    "With dbproperties('Creada por' = 'Martín Romera Sobrado', 'Creada el' = '9-Nov-2020');\n",
    "\n",
    "```"
   ]
  },
  {
   "cell_type": "markdown",
   "metadata": {},
   "source": [
    "### Ejercicios"
   ]
  },
  {
   "cell_type": "markdown",
   "metadata": {},
   "source": [
    "Ej 1. *Crea las tablas necesarias para almacenar los datos. Pueden ser internas o externas en función de los datos que se desee. La decisión de interna o externa debe estar razonada.*"
   ]
  },
  {
   "cell_type": "markdown",
   "metadata": {},
   "source": [
    "Las tablas serán externas, ya que en el ejercicio 5 tendremos un programa *MapReduce* en python que acceda a los datos."
   ]
  },
  {
   "cell_type": "code",
   "execution_count": 3,
   "metadata": {},
   "outputs": [
    {
     "name": "stdout",
     "output_type": "stream",
     "text": [
      "scan complete in 2ms\n",
      "Connecting to jdbc:hive2://localhost:10000/default\n",
      "Connected to: Apache Hive (version 1.1.0-cdh5.12.0)\n",
      "Driver: Hive JDBC (version 1.1.0-cdh5.12.0)\n",
      "Transaction isolation: TRANSACTION_REPEATABLE_READ\n",
      "tasetsc:hive2://localhost:10000/default> -- Creamos las dos tablas: authors y da \n",
      "0: jdbc:hive2://localhost:10000/default> \n",
      "0: jdbc:hive2://localhost:10000/default> USE librosdb;\n",
      "INFO  : Compiling command(queryId=hive_20201110041212_ef41f50f-fbec-4d2b-b0f9-019fec1e5602): USE librosdb\n",
      "INFO  : Semantic Analysis Completed\n",
      "INFO  : Returning Hive schema: Schema(fieldSchemas:null, properties:null)\n",
      "INFO  : Completed compiling command(queryId=hive_20201110041212_ef41f50f-fbec-4d2b-b0f9-019fec1e5602); Time taken: 0.073 seconds\n",
      "INFO  : Concurrency mode is disabled, not creating a lock manager\n",
      "INFO  : Executing command(queryId=hive_20201110041212_ef41f50f-fbec-4d2b-b0f9-019fec1e5602): USE librosdb\n",
      "INFO  : Starting task [Stage-0:DDL] in serial mode\n",
      "INFO  : Completed executing command(queryId=hive_20201110041212_ef41f50f-fbec-4d2b-b0f9-019fec1e5602); Time taken: 0.012 seconds\n",
      "INFO  : OK\n",
      "No rows affected (0.13 seconds)\n",
      "0: jdbc:hive2://localhost:10000/default> \n",
      "0: jdbc:hive2://localhost:10000/default> -- Tabla authors\n",
      "0: jdbc:hive2://localhost:10000/default> \n",
      "horsdbc:hive2://localhost:10000/default> CREATE EXTERNAL TABLE IF NOT EXISTS aut \n",
      ". . . . . . . . . . . . . . . . . . . .> (\n",
      ". . . . . . . . . . . . . . . . . . . .>     author_id INT,\n",
      ". . . . . . . . . . . . . . . . . . . .>     author_name STRING\n",
      ". . . . . . . . . . . . . . . . . . . .> )\n",
      ". . . . . . . . . . . . . . . . . . . .> COMMENT 'Tabla de autores'\n",
      ". . . . . . . . . . . . . . . . . . . .> ROW FORMAT DELIMITED\n",
      ". . . . . . . . . . . . . . . . . . . .> FIELDS TERMINATED BY '\\;'\n",
      "\"1\"); . . . . . . . . . . . . . . . . .> tblproperties(\"skip.header.line.count\"= \n",
      "INFO  : Compiling command(queryId=hive_20201110041212_58380559-7ea6-464a-9858-e1b0251f2737): CREATE EXTERNAL TABLE IF NOT EXISTS authors\n",
      "(\n",
      "author_id INT,\n",
      "author_name STRING\n",
      ")\n",
      "COMMENT 'Tabla de autores'\n",
      "ROW FORMAT DELIMITED\n",
      "FIELDS TERMINATED BY ';'\n",
      "tblproperties(\"skip.header.line.count\"=\"1\")\n",
      "INFO  : Semantic Analysis Completed\n",
      "INFO  : Returning Hive schema: Schema(fieldSchemas:null, properties:null)\n",
      "INFO  : Completed compiling command(queryId=hive_20201110041212_58380559-7ea6-464a-9858-e1b0251f2737); Time taken: 0.242 seconds\n",
      "INFO  : Concurrency mode is disabled, not creating a lock manager\n",
      "INFO  : Executing command(queryId=hive_20201110041212_58380559-7ea6-464a-9858-e1b0251f2737): CREATE EXTERNAL TABLE IF NOT EXISTS authors\n",
      "(\n",
      "author_id INT,\n",
      "author_name STRING\n",
      ")\n",
      "COMMENT 'Tabla de autores'\n",
      "ROW FORMAT DELIMITED\n",
      "FIELDS TERMINATED BY ';'\n",
      "tblproperties(\"skip.header.line.count\"=\"1\")\n",
      "INFO  : Completed executing command(queryId=hive_20201110041212_58380559-7ea6-464a-9858-e1b0251f2737); Time taken: 0.0 seconds\n",
      "INFO  : OK\n",
      "No rows affected (0.259 seconds)\n",
      "0: jdbc:hive2://localhost:10000/default> \n",
      "0: jdbc:hive2://localhost:10000/default> -- Tabla datasets\n",
      "0: jdbc:hive2://localhost:10000/default> \n",
      "asetsbc:hive2://localhost:10000/default> CREATE EXTERNAL TABLE IF NOT EXISTS dat \n",
      ". . . . . . . . . . . . . . . . . . . .> (\n",
      ". . . . . . . . . . . . . . . . . . . .>     title STRING,\n",
      ". . . . . . . . . . . . . . . . . . . .>     author_id INT,\n",
      ". . . . . . . . . . . . . . . . . . . .>     bestsellers_rank INT,\n",
      ". . . . . . . . . . . . . . . . . . . .>     imprint BINARY,\n",
      ". . . . . . . . . . . . . . . . . . . .>     publication_date STRING,\n",
      ". . . . . . . . . . . . . . . . . . . .>     rating_avg DOUBLE,\n",
      ". . . . . . . . . . . . . . . . . . . .>     rating_count INT\n",
      ". . . . . . . . . . . . . . . . . . . .> )\n",
      ". . . . . . . . . . . . . . . . . . . .> COMMENT 'Tabla de libros'\n",
      ". . . . . . . . . . . . . . . . . . . .> ROW FORMAT DELIMITED\n",
      ". . . . . . . . . . . . . . . . . . . .> FIELDS TERMINATED BY '\\;'\n",
      "\"1\"); . . . . . . . . . . . . . . . . .> tblproperties(\"skip.header.line.count\"= \n",
      "INFO  : Compiling command(queryId=hive_20201110041212_af0e4de4-83bf-44a3-bde3-096246ba15a1): CREATE EXTERNAL TABLE IF NOT EXISTS datasets\n",
      "(\n",
      "title STRING,\n",
      "author_id INT,\n",
      "bestsellers_rank INT,\n",
      "imprint BINARY,\n",
      "publication_date STRING,\n",
      "rating_avg DOUBLE,\n",
      "rating_count INT\n",
      ")\n",
      "COMMENT 'Tabla de libros'\n",
      "ROW FORMAT DELIMITED\n",
      "FIELDS TERMINATED BY ';'\n",
      "tblproperties(\"skip.header.line.count\"=\"1\")\n",
      "INFO  : Semantic Analysis Completed\n",
      "INFO  : Returning Hive schema: Schema(fieldSchemas:null, properties:null)\n",
      "INFO  : Completed compiling command(queryId=hive_20201110041212_af0e4de4-83bf-44a3-bde3-096246ba15a1); Time taken: 0.023 seconds\n",
      "INFO  : Concurrency mode is disabled, not creating a lock manager\n",
      "INFO  : Executing command(queryId=hive_20201110041212_af0e4de4-83bf-44a3-bde3-096246ba15a1): CREATE EXTERNAL TABLE IF NOT EXISTS datasets\n",
      "(\n",
      "title STRING,\n",
      "author_id INT,\n",
      "bestsellers_rank INT,\n",
      "imprint BINARY,\n",
      "publication_date STRING,\n",
      "rating_avg DOUBLE,\n",
      "rating_count INT\n",
      ")\n",
      "COMMENT 'Tabla de libros'\n",
      "ROW FORMAT DELIMITED\n",
      "FIELDS TERMINATED BY ';'\n",
      "tblproperties(\"skip.header.line.count\"=\"1\")\n",
      "INFO  : Completed executing command(queryId=hive_20201110041212_af0e4de4-83bf-44a3-bde3-096246ba15a1); Time taken: 0.0 seconds\n",
      "INFO  : OK\n",
      "No rows affected (0.539 seconds)\n",
      "0: jdbc:hive2://localhost:10000/default> \n",
      "0: jdbc:hive2://localhost:10000/default> \n",
      "0: jdbc:hive2://localhost:10000/default> \n",
      "Closing: 0: jdbc:hive2://localhost:10000/default\n"
     ]
    }
   ],
   "source": [
    "! beeline -u \"jdbc:hive2://localhost:10000/default\" -f db/ej1.hql"
   ]
  },
  {
   "cell_type": "markdown",
   "metadata": {},
   "source": [
    "Los contenidos de *db/ej1.hql* son los siquientes:\n",
    "```HiveQL\n",
    "-- Creamos las dos tablas: authors y datasets\n",
    "\n",
    "USE librosdb;\n",
    "\n",
    "-- Tabla authors\n",
    "\n",
    "CREATE EXTERNAL TABLE IF NOT EXISTS authors\n",
    "(\n",
    "    author_id INT,\n",
    "    author_name STRING\n",
    ")\n",
    "COMMENT 'Tabla de autores';\n",
    "\n",
    "-- Tabla datasets\n",
    "\n",
    "CREATE EXTERNAL TABLE IF NOT EXISTS datasets\n",
    "(\n",
    "    title STRING,\n",
    "    author_id INT,\n",
    "    bestsellers_rank INT,\n",
    "    imprint BINARY,\n",
    "    publication_date TIMESTAMP,\n",
    "    rating_avg STRING,\n",
    "    rating_count INT\n",
    ")\n",
    "COMMENT 'Tabla de libros'\n",
    "```"
   ]
  },
  {
   "cell_type": "markdown",
   "metadata": {},
   "source": [
    "Ej 2. *Importa los datos en las tablas creadas*"
   ]
  },
  {
   "cell_type": "code",
   "execution_count": 4,
   "metadata": {
    "collapsed": true
   },
   "outputs": [],
   "source": [
    "! hadoop fs -put db/csv/authors.csv librosdb"
   ]
  },
  {
   "cell_type": "code",
   "execution_count": 5,
   "metadata": {
    "collapsed": true
   },
   "outputs": [],
   "source": [
    "! hadoop fs -put db/csv/dataset.csv librosdb"
   ]
  },
  {
   "cell_type": "code",
   "execution_count": 6,
   "metadata": {},
   "outputs": [
    {
     "name": "stdout",
     "output_type": "stream",
     "text": [
      "scan complete in 3ms\n",
      "Connecting to jdbc:hive2://localhost:10000/default\n",
      "Connected to: Apache Hive (version 1.1.0-cdh5.12.0)\n",
      "Driver: Hive JDBC (version 1.1.0-cdh5.12.0)\n",
      "Transaction isolation: TRANSACTION_REPEATABLE_READ\n",
      "e de datosve2://localhost:10000/default> -- Importamos datos de los csv a la bas \n",
      "0: jdbc:hive2://localhost:10000/default> \n",
      "0: jdbc:hive2://localhost:10000/default> USE librosdb;\n",
      "INFO  : Compiling command(queryId=hive_20201110041212_05966e26-8451-4f55-af8f-545f464e9100): USE librosdb\n",
      "INFO  : Semantic Analysis Completed\n",
      "INFO  : Returning Hive schema: Schema(fieldSchemas:null, properties:null)\n",
      "INFO  : Completed compiling command(queryId=hive_20201110041212_05966e26-8451-4f55-af8f-545f464e9100); Time taken: 0.088 seconds\n",
      "INFO  : Concurrency mode is disabled, not creating a lock manager\n",
      "INFO  : Executing command(queryId=hive_20201110041212_05966e26-8451-4f55-af8f-545f464e9100): USE librosdb\n",
      "INFO  : Starting task [Stage-0:DDL] in serial mode\n",
      "INFO  : Completed executing command(queryId=hive_20201110041212_05966e26-8451-4f55-af8f-545f464e9100); Time taken: 0.012 seconds\n",
      "INFO  : OK\n",
      "No rows affected (0.159 seconds)\n",
      "0: jdbc:hive2://localhost:10000/default> \n",
      "db/authors.csv' INTO Tost:10000/default> LOAD DATA INPATH '/user/cloudera/libros ABLE authors;\n",
      "INFO  : Compiling command(queryId=hive_20201110041212_38a6cd05-4d28-4628-8f98-03ec54060956): LOAD DATA INPATH '/user/cloudera/librosdb/authors.csv' INTO TABLE authors\n",
      "INFO  : Semantic Analysis Completed\n",
      "INFO  : Returning Hive schema: Schema(fieldSchemas:null, properties:null)\n",
      "INFO  : Completed compiling command(queryId=hive_20201110041212_38a6cd05-4d28-4628-8f98-03ec54060956); Time taken: 0.205 seconds\n",
      "INFO  : Concurrency mode is disabled, not creating a lock manager\n",
      "INFO  : Executing command(queryId=hive_20201110041212_38a6cd05-4d28-4628-8f98-03ec54060956): LOAD DATA INPATH '/user/cloudera/librosdb/authors.csv' INTO TABLE authors\n",
      "INFO  : Starting task [Stage-0:MOVE] in serial mode\n",
      "INFO  : Loading data to table librosdb.authors from hdfs://quickstart.cloudera:8020/user/cloudera/librosdb/authors.csv\n",
      "INFO  : Starting task [Stage-1:STATS] in serial mode\n",
      "INFO  : Table librosdb.authors stats: [numFiles=2, totalSize=928072]\n",
      "INFO  : Completed executing command(queryId=hive_20201110041212_38a6cd05-4d28-4628-8f98-03ec54060956); Time taken: 1.599 seconds\n",
      "INFO  : OK\n",
      "No rows affected (1.819 seconds)\n",
      "0: jdbc:hive2://localhost:10000/default> \n",
      "db/dataset.csv' INTO TABLE datasets;ult> LOAD DATA INPATH '/user/cloudera/libros \n",
      "INFO  : Compiling command(queryId=hive_20201110041212_497f47f8-5627-4dac-b667-e4c61dafbb06): LOAD DATA INPATH '/user/cloudera/librosdb/dataset.csv' INTO TABLE datasets\n",
      "INFO  : Semantic Analysis Completed\n",
      "INFO  : Returning Hive schema: Schema(fieldSchemas:null, properties:null)\n",
      "INFO  : Completed compiling command(queryId=hive_20201110041212_497f47f8-5627-4dac-b667-e4c61dafbb06); Time taken: 0.092 seconds\n",
      "INFO  : Concurrency mode is disabled, not creating a lock manager\n",
      "INFO  : Executing command(queryId=hive_20201110041212_497f47f8-5627-4dac-b667-e4c61dafbb06): LOAD DATA INPATH '/user/cloudera/librosdb/dataset.csv' INTO TABLE datasets\n",
      "INFO  : Starting task [Stage-0:MOVE] in serial mode\n",
      "INFO  : Loading data to table librosdb.datasets from hdfs://quickstart.cloudera:8020/user/cloudera/librosdb/dataset.csv\n",
      "INFO  : Starting task [Stage-1:STATS] in serial mode\n",
      "INFO  : Table librosdb.datasets stats: [numFiles=2, totalSize=6782108]\n",
      "INFO  : Completed executing command(queryId=hive_20201110041212_497f47f8-5627-4dac-b667-e4c61dafbb06); Time taken: 0.34 seconds\n",
      "INFO  : OK\n",
      "No rows affected (0.447 seconds)\n",
      "0: jdbc:hive2://localhost:10000/default> \n",
      "Closing: 0: jdbc:hive2://localhost:10000/default\n"
     ]
    }
   ],
   "source": [
    "! beeline -u \"jdbc:hive2://localhost:10000/default\" -f db/ej2.hql"
   ]
  },
  {
   "cell_type": "markdown",
   "metadata": {},
   "source": [
    "Los contenidos de el archivo *db/ej2.hql*, son los siguientes:\n",
    "\n",
    "```HiveQL\n",
    "-- Importamos datos de los csv a la base de datos\n",
    "\n",
    "USE librosdb;\n",
    "\n",
    "LOAD DATA INPATH '/user/cloudera/librosdb/authors.csv' INTO TABLE authors;\n",
    "\n",
    "LOAD DATA INPATH '/user/cloudera/librosdb/dataset.csv' INTO TABLE datasets;\n",
    "```\n",
    "\n",
    "Los dos ficheros csv, son los que proporcionan para la práctica, sin se alterados en ningún momento."
   ]
  },
  {
   "cell_type": "markdown",
   "metadata": {},
   "source": [
    "Ej 3. *Crea una vista sobre las tablas creadas. Esta vista tendrá para cada título, el nombre del autor, fecha de publicación, y valoración media.*"
   ]
  },
  {
   "cell_type": "code",
   "execution_count": 7,
   "metadata": {},
   "outputs": [
    {
     "name": "stdout",
     "output_type": "stream",
     "text": [
      "scan complete in 2ms\n",
      "Connecting to jdbc:hive2://localhost:10000/default\n",
      "Connected to: Apache Hive (version 1.1.0-cdh5.12.0)\n",
      "Driver: Hive JDBC (version 1.1.0-cdh5.12.0)\n",
      "Transaction isolation: TRANSACTION_REPEATABLE_READ\n",
      "as con los siguientes atributos:default> -- Crea una vista para las tablas cread \n",
      "ublicación y Valoración media00/default> -- Titulo, Nombre del autor, Fecha de p \n",
      "0: jdbc:hive2://localhost:10000/default> USE librosdb;\n",
      "INFO  : Compiling command(queryId=hive_20201110041212_551e7e07-abac-4fdc-b5f1-b57021c70cfa): USE librosdb\n",
      "INFO  : Semantic Analysis Completed\n",
      "INFO  : Returning Hive schema: Schema(fieldSchemas:null, properties:null)\n",
      "INFO  : Completed compiling command(queryId=hive_20201110041212_551e7e07-abac-4fdc-b5f1-b57021c70cfa); Time taken: 0.072 seconds\n",
      "INFO  : Concurrency mode is disabled, not creating a lock manager\n",
      "INFO  : Executing command(queryId=hive_20201110041212_551e7e07-abac-4fdc-b5f1-b57021c70cfa): USE librosdb\n",
      "INFO  : Starting task [Stage-0:DDL] in serial mode\n",
      "INFO  : Completed executing command(queryId=hive_20201110041212_551e7e07-abac-4fdc-b5f1-b57021c70cfa); Time taken: 0.008 seconds\n",
      "INFO  : OK\n",
      "No rows affected (0.137 seconds)\n",
      "0: jdbc:hive2://localhost:10000/default> \n",
      "0: jdbc:hive2://localhost:10000/default> CREATE VIEW IF NOT EXISTS vista_libros  \n",
      ". . . . . . . . . . . . . . . . . . . .> (\n",
      ". . . . . . . . . . . . . . . . . . . .>     title COMMENT 'Titulo del libro',\n",
      "o', . . . . . . . . . . . . . . . . . .>     author_name COMMENT 'Autor del libr \n",
      "publicación'. . . . . . . . . . . . . .>     publication_date COMMENT 'Fecha de  ,\n",
      "a del libro'. . . . . . . . . . . . . .>     rating_avg COMMENT 'Valoración medi \n",
      ". . . . . . . . . . . . . . . . . . . .> )\n",
      "on_date, rating_avg . . . . . . . . . .> AS SELECT title, author_name, publicati \n",
      ". . . . . . . . . . . . . . . . . . . .> FROM authors, datasets\n",
      "or_id;. . . . . . . . . . . . . . . . .> WHERE authors.author_id = datasets.auth \n",
      "INFO  : Compiling command(queryId=hive_20201110041212_e2ca85a7-93d8-43fe-85d1-87f4d3797c95): CREATE VIEW IF NOT EXISTS vista_libros\n",
      "(\n",
      "title COMMENT 'Titulo del libro',\n",
      "author_name COMMENT 'Autor del libro',\n",
      "publication_date COMMENT 'Fecha de publicación',\n",
      "rating_avg COMMENT 'Valoración media del libro'\n",
      ")\n",
      "AS SELECT title, author_name, publication_date, rating_avg\n",
      "FROM authors, datasets\n",
      "WHERE authors.author_id = datasets.author_id\n",
      "INFO  : Semantic Analysis Completed\n",
      "INFO  : Returning Hive schema: Schema(fieldSchemas:[FieldSchema(name:title, type:string, comment:null), FieldSchema(name:author_name, type:string, comment:null), FieldSchema(name:publication_date, type:string, comment:null), FieldSchema(name:rating_avg, type:double, comment:null)], properties:null)\n",
      "INFO  : Completed compiling command(queryId=hive_20201110041212_e2ca85a7-93d8-43fe-85d1-87f4d3797c95); Time taken: 0.499 seconds\n",
      "INFO  : Concurrency mode is disabled, not creating a lock manager\n",
      "INFO  : Executing command(queryId=hive_20201110041212_e2ca85a7-93d8-43fe-85d1-87f4d3797c95): CREATE VIEW IF NOT EXISTS vista_libros\n",
      "(\n",
      "title COMMENT 'Titulo del libro',\n",
      "author_name COMMENT 'Autor del libro',\n",
      "publication_date COMMENT 'Fecha de publicación',\n",
      "rating_avg COMMENT 'Valoración media del libro'\n",
      ")\n",
      "AS SELECT title, author_name, publication_date, rating_avg\n",
      "FROM authors, datasets\n",
      "WHERE authors.author_id = datasets.author_id\n",
      "INFO  : Starting task [Stage-0:DDL] in serial mode\n",
      "INFO  : Completed executing command(queryId=hive_20201110041212_e2ca85a7-93d8-43fe-85d1-87f4d3797c95); Time taken: 0.055 seconds\n",
      "INFO  : OK\n",
      "No rows affected (0.568 seconds)\n",
      "0: jdbc:hive2://localhost:10000/default> \n",
      "Closing: 0: jdbc:hive2://localhost:10000/default\n"
     ]
    }
   ],
   "source": [
    "! beeline -u \"jdbc:hive2://localhost:10000/default\" -f db/ej3.hql"
   ]
  },
  {
   "cell_type": "markdown",
   "metadata": {},
   "source": [
    "Los contenidos de *db/ej3.hql* son los siguientes:\n",
    "```HiveQL\n",
    "-- Crea una vista para las tablas creadas con los siguientes atributos:\n",
    "-- Titulo, Nombre del autor, Fecha de publicación y Valoración media\n",
    "USE librosdb;\n",
    "\n",
    "CREATE VIEW IF NOT EXISTS vista_libros \n",
    "(\n",
    "    title COMMENT 'Titulo del libro',\n",
    "    author_name COMMENT 'Autor del libro',\n",
    "    publication_date COMMENT 'Fecha de publicación',\n",
    "    rating_avg COMMENT 'Valoración media del libro'\n",
    ")\n",
    "AS SELECT title, author_name, publication_date, rating_avg\n",
    "FROM authors, datasets\n",
    "WHERE authors.author_id = datasets.author_id;\n",
    "```"
   ]
  },
  {
   "cell_type": "markdown",
   "metadata": {},
   "source": [
    "Ej 4. *Crea las consultas de hive para responder las siguientes cuestiones:*"
   ]
  },
  {
   "cell_type": "markdown",
   "metadata": {},
   "source": [
    "*¿Cuál es el título del libro que ocupa el primer lugar en el ranking de bestsellers?*"
   ]
  },
  {
   "cell_type": "code",
   "execution_count": null,
   "metadata": {
    "collapsed": true
   },
   "outputs": [],
   "source": []
  }
 ],
 "metadata": {
  "kernelspec": {
   "display_name": "Python 2",
   "language": "python",
   "name": "python2"
  },
  "language_info": {
   "codemirror_mode": {
    "name": "ipython",
    "version": 2
   },
   "file_extension": ".py",
   "mimetype": "text/x-python",
   "name": "python",
   "nbconvert_exporter": "python",
   "pygments_lexer": "ipython2",
   "version": "2.7.14"
  }
 },
 "nbformat": 4,
 "nbformat_minor": 2
}
