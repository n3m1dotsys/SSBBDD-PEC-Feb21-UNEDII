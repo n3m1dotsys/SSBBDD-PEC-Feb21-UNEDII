{
 "cells": [
  {
   "cell_type": "markdown",
   "metadata": {},
   "source": [
    "# Practica para Sistemas de Bases de Datos (Feb 21)\n",
    "\n",
    "## Autor: Martín Romera Sobrado\n",
    "## Contacto: mromera95@alumno.uned.es"
   ]
  },
  {
   "cell_type": "markdown",
   "metadata": {},
   "source": [
    "### Inicialización de la base de datos\n",
    "\n",
    "Creamos e iniciamos la base de datos si todavía no lo está."
   ]
  },
  {
   "cell_type": "code",
   "execution_count": 24,
   "metadata": {},
   "outputs": [
    {
     "name": "stdout",
     "output_type": "stream",
     "text": [
      "mkdir: `librosdb': File exists\r\n"
     ]
    }
   ],
   "source": [
    "! hadoop fs -mkdir librosdb"
   ]
  },
  {
   "cell_type": "code",
   "execution_count": 25,
   "metadata": {},
   "outputs": [
    {
     "name": "stdout",
     "output_type": "stream",
     "text": [
      "scan complete in 2ms\n",
      "Connecting to jdbc:hive2://localhost:10000/default\n",
      "Connected to: Apache Hive (version 1.1.0-cdh5.12.0)\n",
      "Driver: Hive JDBC (version 1.1.0-cdh5.12.0)\n",
      "Transaction isolation: TRANSACTION_REPEATABLE_READ\n",
      "que no este creada.alhost:10000/default> -- Crea la base de datos en el caso de  \n",
      "0: jdbc:hive2://localhost:10000/default> \n",
      "0: jdbc:hive2://localhost:10000/default> create database if not exists librosdb\n",
      "de libros'. . . . . . . . . . . . . . .> Comment 'Base de datos con información  \n",
      ". . . . . . . . . . . . . . . . . . . .> Location '/home/cloudera/librosdb'\n",
      "n Romera Sobrado', 'Creada el' = '9-Nov-2020');bproperties('Creada por' = 'Martí \n",
      "INFO  : Compiling command(queryId=hive_20201109085151_eaa70c4f-ded6-4aad-8b26-f46a56a47f5e): create database if not exists librosdb\n",
      "Comment 'Base de datos con información de libros'\n",
      "Location '/home/cloudera/librosdb'\n",
      "With dbproperties('Creada por' = 'Martín Romera Sobrado', 'Creada el' = '9-Nov-2020')\n",
      "INFO  : Semantic Analysis Completed\n",
      "INFO  : Returning Hive schema: Schema(fieldSchemas:null, properties:null)\n",
      "INFO  : Completed compiling command(queryId=hive_20201109085151_eaa70c4f-ded6-4aad-8b26-f46a56a47f5e); Time taken: 0.04 seconds\n",
      "INFO  : Concurrency mode is disabled, not creating a lock manager\n",
      "INFO  : Executing command(queryId=hive_20201109085151_eaa70c4f-ded6-4aad-8b26-f46a56a47f5e): create database if not exists librosdb\n",
      "Comment 'Base de datos con información de libros'\n",
      "Location '/home/cloudera/librosdb'\n",
      "With dbproperties('Creada por' = 'Martín Romera Sobrado', 'Creada el' = '9-Nov-2020')\n",
      "INFO  : Starting task [Stage-0:DDL] in serial mode\n",
      "INFO  : Completed executing command(queryId=hive_20201109085151_eaa70c4f-ded6-4aad-8b26-f46a56a47f5e); Time taken: 0.018 seconds\n",
      "INFO  : OK\n",
      "No rows affected (0.098 seconds)\n",
      "0: jdbc:hive2://localhost:10000/default> \n",
      "0: jdbc:hive2://localhost:10000/default> \n",
      "Closing: 0: jdbc:hive2://localhost:10000/default\n"
     ]
    }
   ],
   "source": [
    "! beeline -u \"jdbc:hive2://localhost:10000/default\" -f db/db.hql"
   ]
  },
  {
   "cell_type": "markdown",
   "metadata": {},
   "source": [
    "Los contenidos de *db/db.hql* son los siguientes:"
   ]
  },
  {
   "cell_type": "markdown",
   "metadata": {},
   "source": [
    "```hive\n",
    "-- Crea la base de datos en el caso de que no este creada.\n",
    "\n",
    "create database if not exists librosdb\n",
    "Comment 'Base de datos con información de libros'\n",
    "Location '/home/cloudera/librosdb'\n",
    "With dbproperties('Creada por' = 'Martín Romera Sobrado', 'Creada el' = '9-Nov-2020');\n",
    "\n",
    "```"
   ]
  },
  {
   "cell_type": "markdown",
   "metadata": {},
   "source": [
    "### Ejercicios"
   ]
  },
  {
   "cell_type": "markdown",
   "metadata": {},
   "source": [
    "Ej 1. *Crea las tablas necesarias para almacenar los datos. Pueden ser internas o externas en función de los datos que se desee. La decisión de interna o externa debe estar razonada.*"
   ]
  },
  {
   "cell_type": "markdown",
   "metadata": {},
   "source": [
    "Las tablas serán externas, ya que en el ejercicio 5 tendremos un programa *MapReduce* en python que acceda a los datos."
   ]
  },
  {
   "cell_type": "code",
   "execution_count": 26,
   "metadata": {},
   "outputs": [
    {
     "name": "stdout",
     "output_type": "stream",
     "text": [
      "scan complete in 2ms\n",
      "Connecting to jdbc:hive2://localhost:10000/default\n",
      "Connected to: Apache Hive (version 1.1.0-cdh5.12.0)\n",
      "Driver: Hive JDBC (version 1.1.0-cdh5.12.0)\n",
      "Transaction isolation: TRANSACTION_REPEATABLE_READ\n",
      "tasetsc:hive2://localhost:10000/default> -- Creamos las dos tablas: authors y da \n",
      "0: jdbc:hive2://localhost:10000/default> \n",
      "0: jdbc:hive2://localhost:10000/default> USE librosdb;\n",
      "INFO  : Compiling command(queryId=hive_20201109085151_7499d642-a0d0-4249-a985-bb05509d18d8): USE librosdb\n",
      "INFO  : Semantic Analysis Completed\n",
      "INFO  : Returning Hive schema: Schema(fieldSchemas:null, properties:null)\n",
      "INFO  : Completed compiling command(queryId=hive_20201109085151_7499d642-a0d0-4249-a985-bb05509d18d8); Time taken: 0.044 seconds\n",
      "INFO  : Concurrency mode is disabled, not creating a lock manager\n",
      "INFO  : Executing command(queryId=hive_20201109085151_7499d642-a0d0-4249-a985-bb05509d18d8): USE librosdb\n",
      "INFO  : Starting task [Stage-0:DDL] in serial mode\n",
      "INFO  : Completed executing command(queryId=hive_20201109085151_7499d642-a0d0-4249-a985-bb05509d18d8); Time taken: 0.009 seconds\n",
      "INFO  : OK\n",
      "No rows affected (0.099 seconds)\n",
      "0: jdbc:hive2://localhost:10000/default> \n",
      "0: jdbc:hive2://localhost:10000/default> -- Tabla authors\n",
      "0: jdbc:hive2://localhost:10000/default> \n",
      "horsdbc:hive2://localhost:10000/default> CREATE EXTERNAL TABLE IF NOT EXISTS aut \n",
      ". . . . . . . . . . . . . . . . . . . .> (\n",
      ". . . . . . . . . . . . . . . . . . . .>     author_id INT,\n",
      ". . . . . . . . . . . . . . . . . . . .>     author_name STRING\n",
      ". . . . . . . . . . . . . . . . . . . .> )\n",
      ". . . . . . . . . . . . . . . . . . . .> COMMENT 'Tabla de autores';\n",
      "INFO  : Compiling command(queryId=hive_20201109085151_0047c3de-16d9-4401-9af4-5c1c63ee083d): CREATE EXTERNAL TABLE IF NOT EXISTS authors\n",
      "(\n",
      "author_id INT,\n",
      "author_name STRING\n",
      ")\n",
      "COMMENT 'Tabla de autores'\n",
      "INFO  : Semantic Analysis Completed\n",
      "INFO  : Returning Hive schema: Schema(fieldSchemas:null, properties:null)\n",
      "INFO  : Completed compiling command(queryId=hive_20201109085151_0047c3de-16d9-4401-9af4-5c1c63ee083d); Time taken: 0.026 seconds\n",
      "INFO  : Concurrency mode is disabled, not creating a lock manager\n",
      "INFO  : Executing command(queryId=hive_20201109085151_0047c3de-16d9-4401-9af4-5c1c63ee083d): CREATE EXTERNAL TABLE IF NOT EXISTS authors\n",
      "(\n",
      "author_id INT,\n",
      "author_name STRING\n",
      ")\n",
      "COMMENT 'Tabla de autores'\n",
      "INFO  : Completed executing command(queryId=hive_20201109085151_0047c3de-16d9-4401-9af4-5c1c63ee083d); Time taken: 0.001 seconds\n",
      "INFO  : OK\n",
      "No rows affected (0.038 seconds)\n",
      "0: jdbc:hive2://localhost:10000/default> \n",
      "0: jdbc:hive2://localhost:10000/default> -- Tabla datasets\n",
      "0: jdbc:hive2://localhost:10000/default> \n",
      "asetsbc:hive2://localhost:10000/default> CREATE EXTERNAL TABLE IF NOT EXISTS dat \n",
      ". . . . . . . . . . . . . . . . . . . .> (\n",
      ". . . . . . . . . . . . . . . . . . . .>     title STRING,\n",
      ". . . . . . . . . . . . . . . . . . . .>     author_id INT,\n",
      ". . . . . . . . . . . . . . . . . . . .>     bestsellers-rank INT,\n",
      ". . . . . . . . . . . . . . . . . . . .>     imprint BINARY,\n",
      ". . . . . . . . . . . . . . . . . . . .>     publication-date TIMESTAMP,\n",
      ". . . . . . . . . . . . . . . . . . . .>     rating-avg DOUBLE,\n",
      ". . . . . . . . . . . . . . . . . . . .>     rating-count INT\n",
      ". . . . . . . . . . . . . . . . . . . .> )\n",
      ". . . . . . . . . . . . . . . . . . . .> COMMENT 'Tabla de libros';\n",
      "Error: Error while compiling statement: FAILED: ParseException line 5:11 cannot recognize input near '-' 'rank' 'INT' in column type (state=42000,code=40000)\n",
      "\n",
      "Closing: 0: jdbc:hive2://localhost:10000/default\n"
     ]
    }
   ],
   "source": [
    "! beeline -u \"jdbc:hive2://localhost:10000/default\" -f db/ej1.hql"
   ]
  },
  {
   "cell_type": "markdown",
   "metadata": {},
   "source": [
    "Los contenidos de *db/ej1.hql* son los siquientes:\n",
    "```hive\n",
    "-- Creamos las dos tablas: authors y datasets\n",
    "\n",
    "USE librosdb;\n",
    "\n",
    "-- Tabla authors\n",
    "\n",
    "CREATE EXTERNAL TABLE IF NOT EXISTS authors\n",
    "(\n",
    "    author_id INT,\n",
    "    author_name STRING\n",
    ")\n",
    "COMMENT 'Tabla de autores';\n",
    "\n",
    "-- Tabla datasets\n",
    "\n",
    "CREATE EXTERNAL TABLE IF NOT EXISTS datasets\n",
    "(\n",
    "    title STRING,\n",
    "    author_id INT,\n",
    "    bestsellers_rank INT,\n",
    "    imprint BINARY,\n",
    "    publication_date TIMESTAMP,\n",
    "    rating_avg DOUBLE,\n",
    "    rating_count INT\n",
    ")\n",
    "COMMENT 'Tabla de libros'\n",
    "```"
   ]
  },
  {
   "cell_type": "markdown",
   "metadata": {},
   "source": [
    "Ej 2. *Importa los datos en las tablas creadas*"
   ]
  },
  {
   "cell_type": "code",
   "execution_count": 27,
   "metadata": {},
   "outputs": [
    {
     "name": "stdout",
     "output_type": "stream",
     "text": [
      "put: `librosdb/authors.csv': File exists\r\n"
     ]
    }
   ],
   "source": [
    "! hadoop fs -put db/csv/authors.csv librosdb"
   ]
  },
  {
   "cell_type": "code",
   "execution_count": 28,
   "metadata": {},
   "outputs": [
    {
     "name": "stdout",
     "output_type": "stream",
     "text": [
      "put: `librosdb/dataset.csv': File exists\r\n"
     ]
    }
   ],
   "source": [
    "! hadoop fs -put db/csv/dataset.csv librosdb"
   ]
  },
  {
   "cell_type": "code",
   "execution_count": null,
   "metadata": {
    "collapsed": true
   },
   "outputs": [],
   "source": []
  }
 ],
 "metadata": {
  "kernelspec": {
   "display_name": "Python 2",
   "language": "python",
   "name": "python2"
  },
  "language_info": {
   "codemirror_mode": {
    "name": "ipython",
    "version": 2
   },
   "file_extension": ".py",
   "mimetype": "text/x-python",
   "name": "python",
   "nbconvert_exporter": "python",
   "pygments_lexer": "ipython2",
   "version": "2.7.14"
  }
 },
 "nbformat": 4,
 "nbformat_minor": 2
}
