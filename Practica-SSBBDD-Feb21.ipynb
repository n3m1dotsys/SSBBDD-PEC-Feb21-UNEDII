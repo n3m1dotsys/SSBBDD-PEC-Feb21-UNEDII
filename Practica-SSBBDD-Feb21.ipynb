{
 "cells": [
  {
   "cell_type": "markdown",
   "metadata": {},
   "source": [
    "# Practica para Sistemas de Bases de Datos (Feb 21)\n",
    "\n",
    "## Autor: Martín Romera Sobrado\n",
    "## Contacto: mromera95@alumno.uned.es"
   ]
  },
  {
   "cell_type": "markdown",
   "metadata": {},
   "source": [
    "### Inicialización de la base de datos\n",
    "\n",
    "Creamos e iniciamos la base de datos si todavía no lo está."
   ]
  },
  {
   "cell_type": "code",
   "execution_count": 2,
   "metadata": {},
   "outputs": [
    {
     "name": "stdout",
     "output_type": "stream",
     "text": [
      "scan complete in 2ms\n",
      "Connecting to jdbc:hive2://localhost:10000/librosdb\n",
      "Connected to: Apache Hive (version 1.1.0-cdh5.12.0)\n",
      "Driver: Hive JDBC (version 1.1.0-cdh5.12.0)\n",
      "Transaction isolation: TRANSACTION_REPEATABLE_READ\n",
      " que no este creaocalhost:10000/librosdb> -- Crea la base de datos en el caso de da.\n",
      "0: jdbc:hive2://localhost:10000/librosdb> \n",
      "0: jdbc:hive2://localhost:10000/librosdb> create database if not exists librosdb \n",
      " de libros' . . . . . . . . . . . . . . > Comment 'Base de datos con información \n",
      ". . . . . . . . . . . . . . . . . . . . > Location '/home/cloudera/librosdb'\n",
      "ín Romera Sobrado', 'Creada el' = '9-Nov-2020');bproperties('Creada por' = 'Mart \n",
      "INFO  : Compiling command(queryId=hive_20201109071717_3e15ea65-3efb-4805-9d55-6c2023d0cbac): create database if not exists librosdb\n",
      "Comment 'Base de datos con información de libros'\n",
      "Location '/home/cloudera/librosdb'\n",
      "With dbproperties('Creada por' = 'Martín Romera Sobrado', 'Creada el' = '9-Nov-2020')\n",
      "INFO  : Semantic Analysis Completed\n",
      "INFO  : Returning Hive schema: Schema(fieldSchemas:null, properties:null)\n",
      "INFO  : Completed compiling command(queryId=hive_20201109071717_3e15ea65-3efb-4805-9d55-6c2023d0cbac); Time taken: 0.047 seconds\n",
      "INFO  : Concurrency mode is disabled, not creating a lock manager\n",
      "INFO  : Executing command(queryId=hive_20201109071717_3e15ea65-3efb-4805-9d55-6c2023d0cbac): create database if not exists librosdb\n",
      "Comment 'Base de datos con información de libros'\n",
      "Location '/home/cloudera/librosdb'\n",
      "With dbproperties('Creada por' = 'Martín Romera Sobrado', 'Creada el' = '9-Nov-2020')\n",
      "INFO  : Starting task [Stage-0:DDL] in serial mode\n",
      "INFO  : Completed executing command(queryId=hive_20201109071717_3e15ea65-3efb-4805-9d55-6c2023d0cbac); Time taken: 0.027 seconds\n",
      "INFO  : OK\n",
      "No rows affected (0.112 seconds)\n",
      "0: jdbc:hive2://localhost:10000/librosdb> \n",
      "0: jdbc:hive2://localhost:10000/librosdb> \n",
      "Closing: 0: jdbc:hive2://localhost:10000/librosdb\n"
     ]
    }
   ],
   "source": [
    "! beeline -u \"jdbc:hive2://localhost:10000/librosdb\" -f db/db.hql"
   ]
  },
  {
   "cell_type": "markdown",
   "metadata": {},
   "source": [
    "Los contenidos de *db/db.hql* son los siguientes:"
   ]
  },
  {
   "cell_type": "markdown",
   "metadata": {},
   "source": [
    "```hive\n",
    "-- Crea la base de datos en el caso de que no este creada.\n",
    "\n",
    "create database if not exists librosdb\n",
    "Comment 'Base de datos con información de libros'\n",
    "Location '/home/cloudera/librosdb'\n",
    "With dbproperties('Creada por' = 'Martín Romera Sobrado', 'Creada el' = '9-Nov-2020');\n",
    "\n",
    "```"
   ]
  },
  {
   "cell_type": "markdown",
   "metadata": {},
   "source": [
    "### Ejercicios"
   ]
  },
  {
   "cell_type": "markdown",
   "metadata": {},
   "source": [
    "1. *Crea las tablas necesarias para almacenar los datos. Pueden ser internas o externas en función de los datos que se desee. La decisión de interna o externa debe estar razonada.*"
   ]
  },
  {
   "cell_type": "markdown",
   "metadata": {},
   "source": [
    "Las tablas serán externas, ya que en el ejercicio 5 tendremos un programa *MapReduce* en python que acceda a los datos."
   ]
  },
  {
   "cell_type": "code",
   "execution_count": 4,
   "metadata": {},
   "outputs": [
    {
     "name": "stdout",
     "output_type": "stream",
     "text": [
      "scan complete in 2ms\n",
      "Connecting to jdbc:hive2://localhost:10000/librosdb\n",
      "Connected to: Apache Hive (version 1.1.0-cdh5.12.0)\n",
      "Driver: Hive JDBC (version 1.1.0-cdh5.12.0)\n",
      "Transaction isolation: TRANSACTION_REPEATABLE_READ\n",
      "atasets:hive2://localhost:10000/librosdb> -- Creamos las dos tablas: authors y d \n",
      "0: jdbc:hive2://localhost:10000/librosdb> \n",
      "0: jdbc:hive2://localhost:10000/librosdb> USE librosdb;\n",
      "INFO  : Compiling command(queryId=hive_20201109082525_c817c923-3ffb-4d0d-9319-96c281fcab3f): USE librosdb\n",
      "INFO  : Semantic Analysis Completed\n",
      "INFO  : Returning Hive schema: Schema(fieldSchemas:null, properties:null)\n",
      "INFO  : Completed compiling command(queryId=hive_20201109082525_c817c923-3ffb-4d0d-9319-96c281fcab3f); Time taken: 0.078 seconds\n",
      "INFO  : Concurrency mode is disabled, not creating a lock manager\n",
      "INFO  : Executing command(queryId=hive_20201109082525_c817c923-3ffb-4d0d-9319-96c281fcab3f): USE librosdb\n",
      "INFO  : Starting task [Stage-0:DDL] in serial mode\n",
      "INFO  : Completed executing command(queryId=hive_20201109082525_c817c923-3ffb-4d0d-9319-96c281fcab3f); Time taken: 0.013 seconds\n",
      "INFO  : OK\n",
      "No rows affected (0.138 seconds)\n",
      "0: jdbc:hive2://localhost:10000/librosdb> \n",
      "0: jdbc:hive2://localhost:10000/librosdb> -- Tabla authors\n",
      "0: jdbc:hive2://localhost:10000/librosdb> \n",
      "thorsbc:hive2://localhost:10000/librosdb> CREATE EXTERNAL TABLE IF NOT EXISTS au \n",
      ". . . . . . . . . . . . . . . . . . . . > (\n",
      ". . . . . . . . . . . . . . . . . . . . >     author_id INT,\n",
      ". . . . . . . . . . . . . . . . . . . . >     author_name STRING\n",
      ". . . . . . . . . . . . . . . . . . . . > )\n",
      ". . . . . . . . . . . . . . . . . . . . > COMMENT 'Tabla de autores';\n",
      "INFO  : Compiling command(queryId=hive_20201109082525_01bc5e47-784b-405e-abc8-db18a0af3b9e): CREATE EXTERNAL TABLE IF NOT EXISTS authors\n",
      "(\n",
      "author_id INT,\n",
      "author_name STRING\n",
      ")\n",
      "COMMENT 'Tabla de autores'\n",
      "INFO  : Semantic Analysis Completed\n",
      "INFO  : Returning Hive schema: Schema(fieldSchemas:null, properties:null)\n",
      "INFO  : Completed compiling command(queryId=hive_20201109082525_01bc5e47-784b-405e-abc8-db18a0af3b9e); Time taken: 0.192 seconds\n",
      "INFO  : Concurrency mode is disabled, not creating a lock manager\n",
      "INFO  : Executing command(queryId=hive_20201109082525_01bc5e47-784b-405e-abc8-db18a0af3b9e): CREATE EXTERNAL TABLE IF NOT EXISTS authors\n",
      "(\n",
      "author_id INT,\n",
      "author_name STRING\n",
      ")\n",
      "COMMENT 'Tabla de autores'\n",
      "INFO  : Starting task [Stage-0:DDL] in serial mode\n",
      "INFO  : Completed executing command(queryId=hive_20201109082525_01bc5e47-784b-405e-abc8-db18a0af3b9e); Time taken: 0.311 seconds\n",
      "INFO  : OK\n",
      "No rows affected (0.521 seconds)\n",
      "0: jdbc:hive2://localhost:10000/librosdb> \n",
      "0: jdbc:hive2://localhost:10000/librosdb> -- Tabla datasets\n",
      "0: jdbc:hive2://localhost:10000/librosdb> \n",
      "tasetsc:hive2://localhost:10000/librosdb> CREATE EXTERNAL TABLE IF NOT EXISTS da \n",
      ". . . . . . . . . . . . . . . . . . . . > (\n",
      ". . . . . . . . . . . . . . . . . . . . >     title STRING,\n",
      ". . . . . . . . . . . . . . . . . . . . >     author_id INT,\n",
      ". . . . . . . . . . . . . . . . . . . . >     bestsellers_rank INT,\n",
      ". . . . . . . . . . . . . . . . . . . . >     imprint BINARY,\n",
      ". . . . . . . . . . . . . . . . . . . . >     publication_date TIMESTAMP,\n",
      ". . . . . . . . . . . . . . . . . . . . >     rating_avg DOUBLE,\n",
      ". . . . . . . . . . . . . . . . . . . . >     rating_count INT\n",
      ". . . . . . . . . . . . . . . . . . . . > )\n",
      ". . . . . . . . . . . . . . . . . . . . > COMMENT 'Tabla de libros'\n",
      ". . . . . . . . . . . . . . . . . . . . > \n",
      ". . . . . . . . . . . . . . . . . . . . > \n",
      ". . . . . . . . . . . . . . . . . . . . > INFO  : Compiling command(queryId=hive_20201109082525_a64221a4-6f60-4ec2-b6fb-efd7ac0ccb6a): CREATE EXTERNAL TABLE IF NOT EXISTS datasets\n",
      "(\n",
      "title STRING,\n",
      "author_id INT,\n",
      "bestsellers_rank INT,\n",
      "imprint BINARY,\n",
      "publication_date TIMESTAMP,\n",
      "rating_avg DOUBLE,\n",
      "rating_count INT\n",
      ")\n",
      "COMMENT 'Tabla de libros'\n",
      "INFO  : Semantic Analysis Completed\n",
      "INFO  : Returning Hive schema: Schema(fieldSchemas:null, properties:null)\n",
      "INFO  : Completed compiling command(queryId=hive_20201109082525_a64221a4-6f60-4ec2-b6fb-efd7ac0ccb6a); Time taken: 0.009 seconds\n",
      "INFO  : Concurrency mode is disabled, not creating a lock manager\n",
      "INFO  : Executing command(queryId=hive_20201109082525_a64221a4-6f60-4ec2-b6fb-efd7ac0ccb6a): CREATE EXTERNAL TABLE IF NOT EXISTS datasets\n",
      "(\n",
      "title STRING,\n",
      "author_id INT,\n",
      "bestsellers_rank INT,\n",
      "imprint BINARY,\n",
      "publication_date TIMESTAMP,\n",
      "rating_avg DOUBLE,\n",
      "rating_count INT\n",
      ")\n",
      "COMMENT 'Tabla de libros'\n",
      "INFO  : Starting task [Stage-0:DDL] in serial mode\n",
      "INFO  : Completed executing command(queryId=hive_20201109082525_a64221a4-6f60-4ec2-b6fb-efd7ac0ccb6a); Time taken: 0.068 seconds\n",
      "INFO  : OK\n",
      "No rows affected (0.089 seconds)\n",
      "0: jdbc:hive2://localhost:10000/librosdb> \n",
      "Closing: 0: jdbc:hive2://localhost:10000/librosdb\n"
     ]
    }
   ],
   "source": [
    "! beeline -u \"jdbc:hive2://localhost:10000/librosdb\" -f db/ej1.hql"
   ]
  },
  {
   "cell_type": "code",
   "execution_count": null,
   "metadata": {
    "collapsed": true
   },
   "outputs": [],
   "source": []
  }
 ],
 "metadata": {
  "kernelspec": {
   "display_name": "Python 2",
   "language": "python",
   "name": "python2"
  },
  "language_info": {
   "codemirror_mode": {
    "name": "ipython",
    "version": 2
   },
   "file_extension": ".py",
   "mimetype": "text/x-python",
   "name": "python",
   "nbconvert_exporter": "python",
   "pygments_lexer": "ipython2",
   "version": "2.7.14"
  }
 },
 "nbformat": 4,
 "nbformat_minor": 2
}
